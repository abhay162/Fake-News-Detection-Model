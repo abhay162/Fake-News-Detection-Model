# Import necessary libraries
import pandas as pd
import re
from nltk.corpus import stopwords
from nltk.tokenize import word_tokenize

# Load the dataset
data = pd.read_csv('data/train.csv')

# Check the first few rows
data.head()

# Clean the text data (basic preprocessing)
def preprocess_text(text):
    # Remove non-alphabetic characters
    text = re.sub(r'[^a-zA-Z\s]', '', text)
    text = text.lower()  # Convert to lowercase
    # Tokenization
    words = word_tokenize(text)
    # Remove stopwords
    stop_words = set(stopwords.words('english'))
    words = [word for word in words if word not in stop_words]
    return ' '.join(words)

# Apply preprocessing to the text column
data['cleaned_text'] = data['text'].apply(preprocess_text)

# Check the cleaned data
data[['text', 'cleaned_text']].head()

# Save the cleaned data to a new CSV file
data.to_csv('data/cleaned_train.csv', index=False)
